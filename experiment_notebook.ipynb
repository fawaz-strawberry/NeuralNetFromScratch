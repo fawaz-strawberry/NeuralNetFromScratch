{
 "cells": [
  {
   "cell_type": "code",
   "execution_count": 1,
   "metadata": {},
   "outputs": [
    {
     "data": {
      "text/plain": [
       "70"
      ]
     },
     "execution_count": 1,
     "metadata": {},
     "output_type": "execute_result"
    }
   ],
   "source": [
    "import numpy as np\n",
    "\n",
    "# x = np.array([1, 2, 3, 4, 5])\n",
    "# y = np.array([3, 2, 2])\n",
    "\n",
    "x = [1, 2, 3, 4, 5]\n",
    "y = [2, 3, 4, 5, 6]\n",
    "np.dot(x, y)"
   ]
  },
  {
   "cell_type": "code",
   "execution_count": 2,
   "metadata": {},
   "outputs": [
    {
     "data": {
      "text/plain": [
       "70"
      ]
     },
     "execution_count": 2,
     "metadata": {},
     "output_type": "execute_result"
    }
   ],
   "source": [
    "def dot(x, y):\n",
    "    if not isinstance(x, list) or not isinstance(y, list):\n",
    "        print(\"Dot product wants list >:(\")\n",
    "    elif len(x) != len(y):\n",
    "        print(\"Dot product wants lists of equal length >:(\")\n",
    "    else:\n",
    "        sum = 0\n",
    "        for valX, valY in zip(x, y):\n",
    "            sum += valX * valY\n",
    "        return sum\n",
    "    return -1\n",
    "\n",
    "dot(x, y)"
   ]
  },
  {
   "cell_type": "code",
   "execution_count": 3,
   "metadata": {},
   "outputs": [
    {
     "name": "stdout",
     "output_type": "stream",
     "text": [
      "[0.08413762977825368, 0.7870381701393161, 0.7159075739543522, 0.36522699852373586, 0.7493737818800515, 0.8004232969004569, 0.16893461500362406, 0.5513078147623706, 0.4165315779081489, 0.5669394731238845, 0.7699862863373873, 0.5908918834947293, 0.8161726539180082, 0.48112515133229183, 0.40021739556341007, 0.8454803268545567, 0.3360682365699248, 0.9313136097682032, 0.5773588330000847, 0.8279785293598634, 0.6408884968162852, 0.9619663317788361, 0.8443396454307748, 0.9145065389292101, 0.6709710563527566, 0.787213749627207, 0.8323017015545884, 0.7751461922796405, 0.42495457359919375, 0.7048013815206534, 0.7024965633091174, 0.7238821514154221, 0.4188505076600706, 0.6483556465088459, 0.33761739723626405, 0.707633781158183, 0.3053229647320993, 0.15225252636107078, 0.6968461891453148, 0.14045278680422868, 0.15285652841938557, 0.8000229358541258, 0.38823246051160043, 0.7536196609418857, 0.27418347807897614, 0.4649019873944915, 0.26713076032151917, 0.2563706407433529, 0.6067484299913156, 0.6057249353923376, 0.7805558208563389, 0.9555594351522043, 0.19202997593350313, 0.6773152901344612, 0.5057799795761665, 0.8394008989181893, 0.2823521028643069, 0.8838249602229241, 0.16803043254106786, 0.9496914298473724, 0.6363661894313793, 0.5340773685045459, 0.0003209973826413526, 0.6623708358000279, 0.6835412344883268, 0.4707317777988257, 0.15739891210969637, 0.6365806858862804, 0.3740365703320562, 0.38573763425315655, 0.5720852535019233, 0.1646925787742073, 0.5464307808512237, 0.30782781406215176, 0.830693813982029, 0.6534008754855793, 0.6481721149135465, 0.7158828693213553, 0.5289478128437459, 0.26375543235294185, 0.5582371815048784, 0.8122516940180444, 0.7201846391393728, 0.6748175565410801, 0.059452979033853715, 0.13363375909918807, 0.03220135914641553, 0.012022702192617696, 0.8232680530803334, 0.9396585370063077, 0.6376159221663206, 0.8374178532470136, 0.6954341378078593, 0.8076156226825103, 0.7057142184352548, 0.8454215914434072, 0.8664875701707018, 0.501936565985551, 0.11519489785419079, 0.25808329409373554]\n"
     ]
    }
   ],
   "source": [
    "import random\n",
    "\n",
    "def generate_random_list(mySize, min, max):\n",
    "    return [random.uniform(min, max) for _ in range(mySize)]\n",
    "\n",
    "print(generate_random_list(100, 0, 1))"
   ]
  },
  {
   "cell_type": "code",
   "execution_count": 4,
   "metadata": {},
   "outputs": [],
   "source": [
    "#Single Node forward pass\n",
    "def forward(weights, inputs, bias=None):\n",
    "    sum = 0\n",
    "    if(bias != None):\n",
    "        for b in bias:\n",
    "            sum += b\n",
    "        # (w1 * i1 + b1) + (w2 * i2 + b2) ... (wn * in + bn)\n",
    "    return dot(weights, inputs) + sum"
   ]
  },
  {
   "cell_type": "code",
   "execution_count": 5,
   "metadata": {},
   "outputs": [],
   "source": [
    "class Linear:\n",
    "    def __init__(self, inputs, outputs, bias=None):\n",
    "        # Should be a set of nodes with weights for the layer. Thus [[1,2,3....],[1,2,3....]]\n",
    "        self.weights = [generate_random_list(inputs, -1, 1) for _ in range(outputs)] \n",
    "        \n",
    "        if bias:\n",
    "            self.bias = [generate_random_list(inputs, -1, 1) for _ in range(outputs)] \n",
    "            self.contains_bias = True\n",
    "        else:\n",
    "            self.contains_bias = False\n",
    "\n",
    "    # Forward fucntion of a linear layer is pretty straight forward kekekeke\n",
    "    def forward(self, batch):\n",
    "        # Output array will hold the batch of outputs for all of the inputs\n",
    "        output = []\n",
    "\n",
    "\n",
    "        # Differing selection if we have/don't have a bias\n",
    "        if self.contains_bias:\n",
    "\n",
    "\n",
    "            # For each input in the batch we want to run that against each of the nodes in the weight layer\n",
    "            for input in batch:\n",
    "                node_set = []\n",
    "\n",
    "                # This here is where we compare taht singular input against each singular node which is the basis of the dot product\n",
    "                # This for loop i think should be eliminated because we are doing each input dotted against each weight in order rather\n",
    "                # than in parallel, I'm sure there's a way to speed this up, but for my purposes, not really relavent\n",
    "                for node, b in zip(self.weights, self.bias):\n",
    "                    node_set.append(dot(node, input) + sum(b))\n",
    "\n",
    "                output.append(node_set)\n",
    "\n",
    "        # Same as above except with no bias\n",
    "        else:\n",
    "            for input in batch:\n",
    "                node_set = []\n",
    "                for node in self.weights:\n",
    "                    node_set.append(dot(node, input))\n",
    "                output.append(node_set)\n",
    "\n",
    "        return output\n",
    "\n",
    "    def ReLU(self, batch_outputs):\n",
    "        for i, output in enumerate(batch_outputs):\n",
    "            for j, val in enumerate(output):\n",
    "                batch_outputs[i][j] = max(0, val)\n",
    "        return batch_outputs\n",
    "    \n",
    "    def printLayer(self):\n",
    "        for weight in self.weights:\n",
    "            print(weight)\n",
    "        \n",
    "        if self.contains_bias:\n",
    "            for bias in self.bias:\n",
    "                print(bias)\n"
   ]
  },
  {
   "cell_type": "code",
   "execution_count": 6,
   "metadata": {},
   "outputs": [],
   "source": [
    "batch_size = 10\n",
    "input_size = 4\n",
    "output_size = 2\n",
    "\n",
    "#This is great for random values test\n",
    "myLinearLayer = Linear(input_size, output_size, False)\n",
    "random_inputs = [generate_random_list(input_size, -1, 1) for _ in range(batch_size)]\n",
    "x = myLinearLayer.forward(random_inputs)\n",
    "x = myLinearLayer.ReLU(x)"
   ]
  },
  {
   "cell_type": "code",
   "execution_count": null,
   "metadata": {},
   "outputs": [],
   "source": []
  },
  {
   "cell_type": "code",
   "execution_count": 7,
   "metadata": {},
   "outputs": [
    {
     "name": "stderr",
     "output_type": "stream",
     "text": [
      "c:\\Users\\fawaz\\AppData\\Local\\Programs\\Python\\Python310\\lib\\site-packages\\tqdm\\auto.py:22: TqdmWarning: IProgress not found. Please update jupyter and ipywidgets. See https://ipywidgets.readthedocs.io/en/stable/user_install.html\n",
      "  from .autonotebook import tqdm as notebook_tqdm\n",
      "Downloading builder script: 100%|██████████| 6.21k/6.21k [00:00<00:00, 6.21MB/s]\n",
      "Downloading metadata: 100%|██████████| 5.56k/5.56k [00:00<00:00, 5.57MB/s]\n",
      "Downloading readme: 100%|██████████| 10.3k/10.3k [00:00<00:00, 10.4MB/s]\n",
      "Downloading data: 100%|██████████| 5.00G/5.00G [10:49<00:00, 7.69MB/s]    \n",
      "Downloading data: 100%|██████████| 1.47M/1.47M [00:00<00:00, 3.33MB/s]\n",
      "Downloading data: 100%|██████████| 489k/489k [00:00<00:00, 1.42MB/s]]\n",
      "Downloading data files: 100%|██████████| 2/2 [00:02<00:00,  1.23s/it]\n",
      "Generating train split: 100%|██████████| 75750/75750 [00:26<00:00, 2817.76 examples/s]\n",
      "Generating validation split: 100%|██████████| 25250/25250 [00:19<00:00, 1328.71 examples/s]\n"
     ]
    }
   ],
   "source": [
    "from datasets import load_dataset\n",
    "\n",
    "dataset = load_dataset(\"food101\")\n",
    "# Import Food 101 database :)"
   ]
  },
  {
   "cell_type": "code",
   "execution_count": 20,
   "metadata": {},
   "outputs": [
    {
     "name": "stdout",
     "output_type": "stream",
     "text": [
      "{'image': [<PIL.JpegImagePlugin.JpegImageFile image mode=RGB size=384x512 at 0x22386D89F30>, <PIL.JpegImagePlugin.JpegImageFile image mode=RGB size=512x512 at 0x22386CE2CB0>, <PIL.JpegImagePlugin.JpegImageFile image mode=RGB size=512x383 at 0x22386CE31C0>, <PIL.JpegImagePlugin.JpegImageFile image mode=RGB size=512x348 at 0x22386CE22F0>, <PIL.JpegImagePlugin.JpegImageFile image mode=RGB size=512x512 at 0x22386CCF940>, <PIL.JpegImagePlugin.JpegImageFile image mode=RGB size=512x512 at 0x22386CCFA00>, <PIL.JpegImagePlugin.JpegImageFile image mode=RGB size=512x512 at 0x22386D89F60>, <PIL.JpegImagePlugin.JpegImageFile image mode=RGB size=512x512 at 0x22386D8A4A0>, <PIL.JpegImagePlugin.JpegImageFile image mode=RGB size=512x512 at 0x22386D89FC0>, <PIL.JpegImagePlugin.JpegImageFile image mode=RGB size=512x306 at 0x22386D8A440>, <PIL.JpegImagePlugin.JpegImageFile image mode=RGB size=512x512 at 0x22386D8A5C0>, <PIL.JpegImagePlugin.JpegImageFile image mode=RGB size=382x512 at 0x22386D89E40>, <PIL.JpegImagePlugin.JpegImageFile image mode=RGB size=512x512 at 0x22386D8AFE0>, <PIL.JpegImagePlugin.JpegImageFile image mode=RGB size=512x384 at 0x22386D8A2C0>, <PIL.JpegImagePlugin.JpegImageFile image mode=RGB size=512x471 at 0x22386D89E70>, <PIL.JpegImagePlugin.JpegImageFile image mode=RGB size=512x512 at 0x22386D8A050>, <PIL.JpegImagePlugin.JpegImageFile image mode=RGB size=512x512 at 0x22386D8A080>, <PIL.JpegImagePlugin.JpegImageFile image mode=RGB size=512x384 at 0x22386D89BA0>, <PIL.JpegImagePlugin.JpegImageFile image mode=RGB size=512x512 at 0x22386D8A2F0>, <PIL.JpegImagePlugin.JpegImageFile image mode=RGB size=384x512 at 0x22386D8A590>, <PIL.JpegImagePlugin.JpegImageFile image mode=RGB size=512x512 at 0x22386D8B010>, <PIL.JpegImagePlugin.JpegImageFile image mode=RGB size=512x382 at 0x22386D898D0>, <PIL.JpegImagePlugin.JpegImageFile image mode=RGB size=384x512 at 0x22386D898A0>, <PIL.JpegImagePlugin.JpegImageFile image mode=RGB size=512x512 at 0x22386D8A020>, <PIL.JpegImagePlugin.JpegImageFile image mode=RGB size=512x384 at 0x22386D89600>, <PIL.JpegImagePlugin.JpegImageFile image mode=RGB size=512x288 at 0x22386D895A0>, <PIL.JpegImagePlugin.JpegImageFile image mode=RGB size=512x512 at 0x22386D89720>, <PIL.JpegImagePlugin.JpegImageFile image mode=RGB size=512x512 at 0x22386D89780>, <PIL.JpegImagePlugin.JpegImageFile image mode=RGB size=289x512 at 0x22386D89750>, <PIL.JpegImagePlugin.JpegImageFile image mode=RGB size=512x512 at 0x22386D89870>, <PIL.JpegImagePlugin.JpegImageFile image mode=RGB size=512x384 at 0x22386D89300>, <PIL.JpegImagePlugin.JpegImageFile image mode=RGB size=384x512 at 0x22386D89420>, <PIL.JpegImagePlugin.JpegImageFile image mode=RGB size=512x512 at 0x22386D89510>, <PIL.JpegImagePlugin.JpegImageFile image mode=RGB size=512x512 at 0x22386D89450>, <PIL.JpegImagePlugin.JpegImageFile image mode=RGB size=512x340 at 0x22386D89480>, <PIL.JpegImagePlugin.JpegImageFile image mode=RGB size=512x512 at 0x22386D894B0>, <PIL.JpegImagePlugin.JpegImageFile image mode=RGB size=512x512 at 0x22386D89270>, <PIL.JpegImagePlugin.JpegImageFile image mode=RGB size=512x512 at 0x22386D89810>, <PIL.JpegImagePlugin.JpegImageFile image mode=RGB size=511x512 at 0x22386D8B1C0>, <PIL.JpegImagePlugin.JpegImageFile image mode=RGB size=512x512 at 0x22386D8B0D0>, <PIL.JpegImagePlugin.JpegImageFile image mode=RGB size=512x384 at 0x22386D8B220>, <PIL.JpegImagePlugin.JpegImageFile image mode=RGB size=512x512 at 0x22386D8B2B0>, <PIL.JpegImagePlugin.JpegImageFile image mode=RGB size=512x384 at 0x22386D8B2E0>, <PIL.JpegImagePlugin.JpegImageFile image mode=RGB size=512x512 at 0x22386D89390>, <PIL.JpegImagePlugin.JpegImageFile image mode=RGB size=512x512 at 0x22386D8B310>, <PIL.JpegImagePlugin.JpegImageFile image mode=RGB size=512x382 at 0x22386D8B430>, <PIL.JpegImagePlugin.JpegImageFile image mode=RGB size=512x384 at 0x22386D8B190>, <PIL.JpegImagePlugin.JpegImageFile image mode=RGB size=512x512 at 0x22386D8B400>, <PIL.JpegImagePlugin.JpegImageFile image mode=RGB size=512x384 at 0x22386D8B5B0>, <PIL.JpegImagePlugin.JpegImageFile image mode=RGB size=512x384 at 0x22386D8B7C0>, <PIL.JpegImagePlugin.JpegImageFile image mode=RGB size=512x512 at 0x22386D8B580>, <PIL.JpegImagePlugin.JpegImageFile image mode=RGB size=512x384 at 0x22386D8B6A0>, <PIL.JpegImagePlugin.JpegImageFile image mode=RGB size=512x512 at 0x22386D8B4F0>, <PIL.JpegImagePlugin.JpegImageFile image mode=RGB size=512x512 at 0x22386D8B730>, <PIL.JpegImagePlugin.JpegImageFile image mode=RGB size=512x512 at 0x22386D8B760>, <PIL.JpegImagePlugin.JpegImageFile image mode=RGB size=512x512 at 0x22386D8B670>, <PIL.JpegImagePlugin.JpegImageFile image mode=RGB size=512x512 at 0x22386D8B640>, <PIL.JpegImagePlugin.JpegImageFile image mode=RGB size=512x512 at 0x22386D8B820>, <PIL.JpegImagePlugin.JpegImageFile image mode=RGB size=512x512 at 0x22386D8B850>, <PIL.JpegImagePlugin.JpegImageFile image mode=RGB size=512x512 at 0x22386D8B9D0>, <PIL.JpegImagePlugin.JpegImageFile image mode=RGB size=512x512 at 0x22386D8BA60>, <PIL.JpegImagePlugin.JpegImageFile image mode=RGB size=512x512 at 0x22386D8B9A0>, <PIL.JpegImagePlugin.JpegImageFile image mode=RGB size=512x512 at 0x22386D8BA90>, <PIL.JpegImagePlugin.JpegImageFile image mode=RGB size=512x307 at 0x22386D8B970>, <PIL.JpegImagePlugin.JpegImageFile image mode=RGB size=512x512 at 0x22386D8BA30>, <PIL.JpegImagePlugin.JpegImageFile image mode=RGB size=512x512 at 0x22386D8BBB0>, <PIL.JpegImagePlugin.JpegImageFile image mode=RGB size=512x512 at 0x22386D8BB50>, <PIL.JpegImagePlugin.JpegImageFile image mode=RGB size=512x512 at 0x22386D8BB20>, <PIL.JpegImagePlugin.JpegImageFile image mode=RGB size=512x512 at 0x22386D8BC40>, <PIL.JpegImagePlugin.JpegImageFile image mode=RGB size=512x384 at 0x22386D8BD30>, <PIL.JpegImagePlugin.JpegImageFile image mode=RGB size=512x512 at 0x22386D8BCD0>, <PIL.JpegImagePlugin.JpegImageFile image mode=RGB size=512x512 at 0x22386D8BCA0>, <PIL.JpegImagePlugin.JpegImageFile image mode=RGB size=384x512 at 0x22386D8BD90>, <PIL.JpegImagePlugin.JpegImageFile image mode=RGB size=512x512 at 0x22386D8BDF0>, <PIL.JpegImagePlugin.JpegImageFile image mode=RGB size=512x512 at 0x22386D8BE50>, <PIL.JpegImagePlugin.JpegImageFile image mode=RGB size=512x512 at 0x22386D8BEB0>, <PIL.JpegImagePlugin.JpegImageFile image mode=RGB size=512x512 at 0x22386D8BF10>, <PIL.JpegImagePlugin.JpegImageFile image mode=RGB size=512x512 at 0x22386D8BF70>, <PIL.JpegImagePlugin.JpegImageFile image mode=RGB size=512x306 at 0x22386D8BFD0>, <PIL.JpegImagePlugin.JpegImageFile image mode=RGB size=512x512 at 0x2238DCA0070>, <PIL.JpegImagePlugin.JpegImageFile image mode=RGB size=512x512 at 0x2238DCA00D0>, <PIL.JpegImagePlugin.JpegImageFile image mode=RGB size=512x383 at 0x2238DCA0130>, <PIL.JpegImagePlugin.JpegImageFile image mode=RGB size=512x512 at 0x2238DCA0190>, <PIL.JpegImagePlugin.JpegImageFile image mode=RGB size=512x512 at 0x2238DCA01F0>, <PIL.JpegImagePlugin.JpegImageFile image mode=RGB size=512x384 at 0x2238DCA0250>, <PIL.JpegImagePlugin.JpegImageFile image mode=RGB size=512x512 at 0x2238DCA02B0>, <PIL.JpegImagePlugin.JpegImageFile image mode=RGB size=512x512 at 0x2238DCA0310>, <PIL.JpegImagePlugin.JpegImageFile image mode=RGB size=512x512 at 0x2238DCA0370>, <PIL.JpegImagePlugin.JpegImageFile image mode=RGB size=512x512 at 0x2238DCA03D0>, <PIL.JpegImagePlugin.JpegImageFile image mode=RGB size=512x512 at 0x2238DCA0430>, <PIL.JpegImagePlugin.JpegImageFile image mode=RGB size=512x512 at 0x2238DCA0490>, <PIL.JpegImagePlugin.JpegImageFile image mode=RGB size=512x512 at 0x2238DCA04F0>, <PIL.JpegImagePlugin.JpegImageFile image mode=RGB size=512x512 at 0x2238DCA0550>, <PIL.JpegImagePlugin.JpegImageFile image mode=RGB size=512x512 at 0x2238DCA05B0>, <PIL.JpegImagePlugin.JpegImageFile image mode=RGB size=512x512 at 0x2238DCA0610>, <PIL.JpegImagePlugin.JpegImageFile image mode=RGB size=512x512 at 0x2238DCA0670>, <PIL.JpegImagePlugin.JpegImageFile image mode=RGB size=512x512 at 0x2238DCA06D0>, <PIL.JpegImagePlugin.JpegImageFile image mode=RGB size=512x512 at 0x2238DCA0730>, <PIL.JpegImagePlugin.JpegImageFile image mode=RGB size=512x384 at 0x2238DCA0790>, <PIL.JpegImagePlugin.JpegImageFile image mode=RGB size=512x289 at 0x2238DCA07F0>], 'label': [6, 6, 6, 6, 6, 6, 6, 6, 6, 6, 6, 6, 6, 6, 6, 6, 6, 6, 6, 6, 6, 6, 6, 6, 6, 6, 6, 6, 6, 6, 6, 6, 6, 6, 6, 6, 6, 6, 6, 6, 6, 6, 6, 6, 6, 6, 6, 6, 6, 6, 6, 6, 6, 6, 6, 6, 6, 6, 6, 6, 6, 6, 6, 6, 6, 6, 6, 6, 6, 6, 6, 6, 6, 6, 6, 6, 6, 6, 6, 6, 6, 6, 6, 6, 6, 6, 6, 6, 6, 6, 6, 6, 6, 6, 6, 6, 6, 6, 6, 6]}\n"
     ]
    }
   ],
   "source": [
    "import numpy as np\n",
    "\n",
    "train_test_split = .8\n",
    "\n",
    "train_dataset = (dataset['train'])[:100]\n",
    "validation_dataset = dataset['validation']\n",
    "\n",
    "\n",
    "print(train_dataset)\n",
    "\n",
    "X = [np.array(dataPoint) for dataPoint in train_dataset[\"image\"]] #Train data\n",
    "# Y = [np.array(dataPoint[\"label\"]) for dataPoint in train_dataset] #Labels\n",
    "Xtest = []\n",
    "Ytest = []"
   ]
  },
  {
   "cell_type": "code",
   "execution_count": null,
   "metadata": {},
   "outputs": [],
   "source": []
  }
 ],
 "metadata": {
  "kernelspec": {
   "display_name": "Python 3",
   "language": "python",
   "name": "python3"
  },
  "language_info": {
   "codemirror_mode": {
    "name": "ipython",
    "version": 3
   },
   "file_extension": ".py",
   "mimetype": "text/x-python",
   "name": "python",
   "nbconvert_exporter": "python",
   "pygments_lexer": "ipython3",
   "version": "3.10.6"
  },
  "orig_nbformat": 4
 },
 "nbformat": 4,
 "nbformat_minor": 2
}
